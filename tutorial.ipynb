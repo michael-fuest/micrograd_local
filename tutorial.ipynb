{
 "cells": [
  {
   "cell_type": "code",
   "execution_count": 150,
   "metadata": {
    "collapsed": true,
    "ExecuteTime": {
     "end_time": "2023-08-22T13:28:12.539833Z",
     "start_time": "2023-08-22T13:28:12.532683Z"
    }
   },
   "outputs": [],
   "source": [
    "import math\n",
    "import random\n",
    "\n",
    "import numpy as np\n",
    "import matplotlib.pyplot as plt\n",
    "%matplotlib inline"
   ]
  },
  {
   "cell_type": "markdown",
   "source": [],
   "metadata": {
    "collapsed": false
   }
  },
  {
   "cell_type": "code",
   "execution_count": 2,
   "outputs": [],
   "source": [
    "def f(x):\n",
    "    return 3*x**2 - 4*x + 5"
   ],
   "metadata": {
    "collapsed": false,
    "ExecuteTime": {
     "end_time": "2023-08-22T09:51:21.719163Z",
     "start_time": "2023-08-22T09:51:21.712532Z"
    }
   }
  },
  {
   "cell_type": "code",
   "execution_count": 3,
   "outputs": [
    {
     "data": {
      "text/plain": "20"
     },
     "execution_count": 3,
     "metadata": {},
     "output_type": "execute_result"
    }
   ],
   "source": [
    "f(3)"
   ],
   "metadata": {
    "collapsed": false,
    "ExecuteTime": {
     "end_time": "2023-08-22T09:51:21.998756Z",
     "start_time": "2023-08-22T09:51:21.993023Z"
    }
   }
  },
  {
   "cell_type": "code",
   "execution_count": 4,
   "outputs": [
    {
     "data": {
      "text/plain": "[<matplotlib.lines.Line2D at 0x10eba2210>]"
     },
     "execution_count": 4,
     "metadata": {},
     "output_type": "execute_result"
    },
    {
     "data": {
      "text/plain": "<Figure size 640x480 with 1 Axes>",
      "image/png": "[encoded data removed]"
     },
     "metadata": {},
     "output_type": "display_data"
    }
   ],
   "source": [
    "xs = np.arange(-5, 5, 0.25)\n",
    "ys = f(xs)\n",
    "plt.plot(xs, ys)"
   ],
   "metadata": {
    "collapsed": false,
    "ExecuteTime": {
     "end_time": "2023-08-22T09:51:22.418929Z",
     "start_time": "2023-08-22T09:51:22.331548Z"
    }
   }
  },
  {
   "cell_type": "code",
   "execution_count": 5,
   "outputs": [
    {
     "data": {
      "text/plain": "0.0"
     },
     "execution_count": 5,
     "metadata": {},
     "output_type": "execute_result"
    }
   ],
   "source": [
    "h = 0.00000001\n",
    "x = 2/3\n",
    "(f(x + h) - f(x))/h"
   ],
   "metadata": {
    "collapsed": false,
    "ExecuteTime": {
     "end_time": "2023-08-22T09:51:23.138894Z",
     "start_time": "2023-08-22T09:51:23.134983Z"
    }
   }
  },
  {
   "cell_type": "code",
   "execution_count": 6,
   "outputs": [
    {
     "name": "stdout",
     "output_type": "stream",
     "text": [
      "4.0\n"
     ]
    }
   ],
   "source": [
    "a = 2.0\n",
    "b= -3.0\n",
    "c = 10.0\n",
    "d = a*b + c\n",
    "print(d)"
   ],
   "metadata": {
    "collapsed": false,
    "ExecuteTime": {
     "end_time": "2023-08-22T09:51:23.787953Z",
     "start_time": "2023-08-22T09:51:23.782870Z"
    }
   }
  },
  {
   "cell_type": "code",
   "execution_count": 7,
   "outputs": [
    {
     "name": "stdout",
     "output_type": "stream",
     "text": [
      "d1 4.0\n",
      "d2 4.00001\n",
      "slope 0.9999999999621422\n"
     ]
    }
   ],
   "source": [
    "h = 0.00001\n",
    "\n",
    "#inputs\n",
    "a = 2.0\n",
    "b= -3.0\n",
    "c = 10.0\n",
    "\n",
    "d1 = a*b + c\n",
    "c += h\n",
    "d2 = a*b + c\n",
    "\n",
    "print('d1', d1)\n",
    "print('d2', d2)\n",
    "print('slope', (d2 - d1)/h)"
   ],
   "metadata": {
    "collapsed": false,
    "ExecuteTime": {
     "end_time": "2023-08-22T09:51:24.122784Z",
     "start_time": "2023-08-22T09:51:24.117385Z"
    }
   }
  },
  {
   "cell_type": "code",
   "execution_count": 180,
   "outputs": [
    {
     "data": {
      "text/plain": "Value(data=4.0)"
     },
     "execution_count": 180,
     "metadata": {},
     "output_type": "execute_result"
    }
   ],
   "source": [
    "class Value:\n",
    "\n",
    "    def __init__(self, data, _children=(), _op='', label=''):\n",
    "        self.data = data\n",
    "        self.grad = 0.0\n",
    "        self._backward = lambda: None\n",
    "        self._prev = set(_children)\n",
    "        self._op = _op\n",
    "        self.label = label\n",
    "\n",
    "    def __repr__(self):\n",
    "        return f\"Value(data={self.data})\"\n",
    "\n",
    "    def __add__(self, other):\n",
    "        other = other if isinstance(other, Value) else Value(other)\n",
    "        out = Value(self.data + other.data, (self, other), '+')\n",
    "        \n",
    "        def _backward():\n",
    "            self.grad += out.grad\n",
    "            other.grad += out.grad\n",
    "            \n",
    "        out._backward = _backward\n",
    "        \n",
    "        return out\n",
    "    \n",
    "    def __radd__(self, other):\n",
    "        return self.__add__(other)\n",
    "    \n",
    "    def __neg__(self):\n",
    "        return self * -1\n",
    "    \n",
    "    def __sub__(self, other):\n",
    "        return self + (-other)\n",
    "\n",
    "    def __mul__(self, other):\n",
    "        other = other if isinstance(other, Value) else Value(other)\n",
    "        out = Value(self.data * other.data, (self, other), '*')\n",
    "        \n",
    "        def _backward():\n",
    "            self.grad += other.data * out.grad\n",
    "            other.grad += self.data * out.grad\n",
    "            \n",
    "        out._backward = _backward\n",
    "        \n",
    "        return out\n",
    "    \n",
    "    def __rmul__(self, other):\n",
    "        return self.__mul__(other)\n",
    "    \n",
    "    def __pow__(self, other):\n",
    "        assert isinstance(other, (int, float)), \"only supporting int/float powers for now\"\n",
    "        out = Value(self.data ** other, (self, ), f'**{other}')\n",
    "        \n",
    "        def _backward():\n",
    "            self.grad += (other * self.data ** (other - 1)) * out.grad\n",
    "            \n",
    "        out._backward = _backward\n",
    "        \n",
    "        return out\n",
    "    \n",
    "    def __truediv__(self, other):\n",
    "        return self * other **-1\n",
    "    \n",
    "    def exp(self):\n",
    "        x = self.data\n",
    "        out = Value(math.exp(x), (self, ), 'exp')\n",
    "        \n",
    "        def _backward():\n",
    "            self.grad += out.data * out.grad\n",
    "            \n",
    "        self._backward = _backward\n",
    "        \n",
    "        return out\n",
    "    \n",
    "    def tanh(self):\n",
    "        x = self.data\n",
    "        t =  (math.exp(2*x) - 1)/(math.exp(2*x) + 1)\n",
    "        out = Value(t, (self, ), 'tanh')\n",
    "        \n",
    "        def _backward():\n",
    "            self.grad = (1 - t**2) * out.grad\n",
    "            \n",
    "        out._backward = _backward\n",
    "        \n",
    "        return out\n",
    "    \n",
    "    def backward(self):\n",
    "        \n",
    "        def topological_sort(v):\n",
    "            topo = []\n",
    "            visited = set()\n",
    "            \n",
    "            if v not in visited:\n",
    "                visited.add(v)\n",
    "                for child in v._prev:\n",
    "                    topo += topological_sort(child)\n",
    "                topo.append(v)\n",
    "            return topo\n",
    "\n",
    "        ordered = topological_sort(self)\n",
    "        self.grad = 1.0\n",
    "        \n",
    "        for node in reversed(ordered):\n",
    "            node._backward()\n",
    "\n",
    "a = Value(2.0, label='a')\n",
    "b = Value(-3.0, label='b')\n",
    "c = Value(10, label='c')\n",
    "e = a*b; e.label = 'e'\n",
    "d = e + c; d.label = 'd'\n",
    "f = Value(-2.0, label='f')\n",
    "L = d*f; L.label='L'\n",
    "d"
   ],
   "metadata": {
    "collapsed": false,
    "ExecuteTime": {
     "end_time": "2023-08-22T13:46:04.827769Z",
     "start_time": "2023-08-22T13:46:04.814566Z"
    }
   }
  },
  {
   "cell_type": "code",
   "execution_count": 181,
   "outputs": [
    {
     "data": {
      "image/svg+xml": "<?xml version=\"1.0\" encoding=\"UTF-8\" standalone=\"no\"?>\n<!DOCTYPE svg PUBLIC \"-//W3C//DTD SVG 1.1//EN\"\n \"http://www.w3.org/Graphics/SVG/1.1/DTD/svg11.dtd\">\n<!-- Generated by graphviz version 8.1.0 (20230707.0739)\n -->\n<!-- Pages: 1 -->\n<svg width=\"1140pt\" height=\"156pt\"\n viewBox=\"0.00 0.00 1139.75 156.00\" xmlns=\"http://www.w3.org/2000/svg\" xmlns:xlink=\"http://www.w3.org/1999/xlink\">\n<g id=\"graph0\" class=\"graph\" transform=\"scale(1 1) rotate(0) translate(4 152)\">\n<polygon fill=\"white\" stroke=\"none\" points=\"-4,4 -4,-152 1135.75,-152 1135.75,4 -4,4\"/>\n<!-- 5344783952 -->\n<g id=\"node1\" class=\"node\">\n<title>5344783952</title>\n<polygon fill=\"none\" stroke=\"black\" points=\"2.62,-111.5 2.62,-147.5 185.62,-147.5 185.62,-111.5 2.62,-111.5\"/>\n<text text-anchor=\"middle\" x=\"13.62\" y=\"-124.7\" font-family=\"Times,serif\" font-size=\"14.00\">a</text>\n<polyline fill=\"none\" stroke=\"black\" points=\"24.62,-112 24.62,-147.5\"/>\n<text text-anchor=\"middle\" x=\"64.5\" y=\"-124.7\" font-family=\"Times,serif\" font-size=\"14.00\">data 2.0000</text>\n<polyline fill=\"none\" stroke=\"black\" points=\"104.38,-112 104.38,-147.5\"/>\n<text text-anchor=\"middle\" x=\"145\" y=\"-124.7\" font-family=\"Times,serif\" font-size=\"14.00\">grad 0.0000</text>\n</g>\n<!-- 5338683600* -->\n<g id=\"node7\" class=\"node\">\n<title>5338683600*</title>\n<ellipse fill=\"none\" stroke=\"black\" cx=\"251.25\" cy=\"-101.5\" rx=\"27\" ry=\"18\"/>\n<text text-anchor=\"middle\" x=\"251.25\" y=\"-96.45\" font-family=\"Times,serif\" font-size=\"14.00\">*</text>\n</g>\n<!-- 5344783952&#45;&gt;5338683600* -->\n<g id=\"edge4\" class=\"edge\">\n<title>5344783952&#45;&gt;5338683600*</title>\n<path fill=\"none\" stroke=\"black\" d=\"M185.36,-113.21C195.48,-111.39 205.31,-109.61 214.13,-108.02\"/>\n<polygon fill=\"black\" stroke=\"black\" points=\"214.48,-111.33 223.7,-106.11 213.24,-104.44 214.48,-111.33\"/>\n</g>\n<!-- 5343361680 -->\n<g id=\"node2\" class=\"node\">\n<title>5343361680</title>\n<polygon fill=\"none\" stroke=\"black\" points=\"631.12,-55.5 631.12,-91.5 814.88,-91.5 814.88,-55.5 631.12,-55.5\"/>\n<text text-anchor=\"middle\" x=\"642.5\" y=\"-68.7\" font-family=\"Times,serif\" font-size=\"14.00\">d</text>\n<polyline fill=\"none\" stroke=\"black\" points=\"653.88,-56 653.88,-91.5\"/>\n<text text-anchor=\"middle\" x=\"693.75\" y=\"-68.7\" font-family=\"Times,serif\" font-size=\"14.00\">data 4.0000</text>\n<polyline fill=\"none\" stroke=\"black\" points=\"733.62,-56 733.62,-91.5\"/>\n<text text-anchor=\"middle\" x=\"774.25\" y=\"-68.7\" font-family=\"Times,serif\" font-size=\"14.00\">grad 0.0000</text>\n</g>\n<!-- 5344856272* -->\n<g id=\"node5\" class=\"node\">\n<title>5344856272*</title>\n<ellipse fill=\"none\" stroke=\"black\" cx=\"879\" cy=\"-45.5\" rx=\"27\" ry=\"18\"/>\n<text text-anchor=\"middle\" x=\"879\" y=\"-40.45\" font-family=\"Times,serif\" font-size=\"14.00\">*</text>\n</g>\n<!-- 5343361680&#45;&gt;5344856272* -->\n<g id=\"edge8\" class=\"edge\">\n<title>5343361680&#45;&gt;5344856272*</title>\n<path fill=\"none\" stroke=\"black\" d=\"M814.47,-57.05C824.02,-55.32 833.27,-53.63 841.63,-52.11\"/>\n<polygon fill=\"black\" stroke=\"black\" points=\"842.21,-55.38 851.42,-50.15 840.96,-48.5 842.21,-55.38\"/>\n</g>\n<!-- 5343361680+ -->\n<g id=\"node3\" class=\"node\">\n<title>5343361680+</title>\n<ellipse fill=\"none\" stroke=\"black\" cx=\"567\" cy=\"-73.5\" rx=\"27\" ry=\"18\"/>\n<text text-anchor=\"middle\" x=\"567\" y=\"-68.45\" font-family=\"Times,serif\" font-size=\"14.00\">+</text>\n</g>\n<!-- 5343361680+&#45;&gt;5343361680 -->\n<g id=\"edge1\" class=\"edge\">\n<title>5343361680+&#45;&gt;5343361680</title>\n<path fill=\"none\" stroke=\"black\" d=\"M594.47,-73.5C602.16,-73.5 611.05,-73.5 620.48,-73.5\"/>\n<polygon fill=\"black\" stroke=\"black\" points=\"620.33,-77 630.33,-73.5 620.33,-70 620.33,-77\"/>\n</g>\n<!-- 5344856272 -->\n<g id=\"node4\" class=\"node\">\n<title>5344856272</title>\n<polygon fill=\"none\" stroke=\"black\" points=\"942,-27.5 942,-63.5 1131.75,-63.5 1131.75,-27.5 942,-27.5\"/>\n<text text-anchor=\"middle\" x=\"954.12\" y=\"-40.7\" font-family=\"Times,serif\" font-size=\"14.00\">L</text>\n<polyline fill=\"none\" stroke=\"black\" points=\"966.25,-28 966.25,-63.5\"/>\n<text text-anchor=\"middle\" x=\"1008.38\" y=\"-40.7\" font-family=\"Times,serif\" font-size=\"14.00\">data &#45;8.0000</text>\n<polyline fill=\"none\" stroke=\"black\" points=\"1050.5,-28 1050.5,-63.5\"/>\n<text text-anchor=\"middle\" x=\"1091.12\" y=\"-40.7\" font-family=\"Times,serif\" font-size=\"14.00\">grad 0.0000</text>\n</g>\n<!-- 5344856272*&#45;&gt;5344856272 -->\n<g id=\"edge2\" class=\"edge\">\n<title>5344856272*&#45;&gt;5344856272</title>\n<path fill=\"none\" stroke=\"black\" d=\"M906.44,-45.5C913.81,-45.5 922.29,-45.5 931.31,-45.5\"/>\n<polygon fill=\"black\" stroke=\"black\" points=\"931.11,-49 941.11,-45.5 931.11,-42 931.11,-49\"/>\n</g>\n<!-- 5338683600 -->\n<g id=\"node6\" class=\"node\">\n<title>5338683600</title>\n<polygon fill=\"none\" stroke=\"black\" points=\"315.38,-83.5 315.38,-119.5 502.88,-119.5 502.88,-83.5 315.38,-83.5\"/>\n<text text-anchor=\"middle\" x=\"326.38\" y=\"-96.7\" font-family=\"Times,serif\" font-size=\"14.00\">e</text>\n<polyline fill=\"none\" stroke=\"black\" points=\"337.38,-84 337.38,-119.5\"/>\n<text text-anchor=\"middle\" x=\"379.5\" y=\"-96.7\" font-family=\"Times,serif\" font-size=\"14.00\">data &#45;6.0000</text>\n<polyline fill=\"none\" stroke=\"black\" points=\"421.62,-84 421.62,-119.5\"/>\n<text text-anchor=\"middle\" x=\"462.25\" y=\"-96.7\" font-family=\"Times,serif\" font-size=\"14.00\">grad 0.0000</text>\n</g>\n<!-- 5338683600&#45;&gt;5343361680+ -->\n<g id=\"edge6\" class=\"edge\">\n<title>5338683600&#45;&gt;5343361680+</title>\n<path fill=\"none\" stroke=\"black\" d=\"M502.6,-84.89C512.15,-83.17 521.41,-81.51 529.76,-80.01\"/>\n<polygon fill=\"black\" stroke=\"black\" points=\"530.3,-83.29 539.52,-78.08 529.06,-76.4 530.3,-83.29\"/>\n</g>\n<!-- 5338683600*&#45;&gt;5338683600 -->\n<g id=\"edge3\" class=\"edge\">\n<title>5338683600*&#45;&gt;5338683600</title>\n<path fill=\"none\" stroke=\"black\" d=\"M278.69,-101.5C286.39,-101.5 295.3,-101.5 304.78,-101.5\"/>\n<polygon fill=\"black\" stroke=\"black\" points=\"304.68,-105 314.68,-101.5 304.68,-98 304.68,-105\"/>\n</g>\n<!-- 5341908240 -->\n<g id=\"node8\" class=\"node\">\n<title>5341908240</title>\n<polygon fill=\"none\" stroke=\"black\" points=\"314.25,-28.5 314.25,-64.5 504,-64.5 504,-28.5 314.25,-28.5\"/>\n<text text-anchor=\"middle\" x=\"325.25\" y=\"-41.7\" font-family=\"Times,serif\" font-size=\"14.00\">c</text>\n<polyline fill=\"none\" stroke=\"black\" points=\"336.25,-29 336.25,-64.5\"/>\n<text text-anchor=\"middle\" x=\"379.5\" y=\"-41.7\" font-family=\"Times,serif\" font-size=\"14.00\">data 10.0000</text>\n<polyline fill=\"none\" stroke=\"black\" points=\"422.75,-29 422.75,-64.5\"/>\n<text text-anchor=\"middle\" x=\"463.38\" y=\"-41.7\" font-family=\"Times,serif\" font-size=\"14.00\">grad 0.0000</text>\n</g>\n<!-- 5341908240&#45;&gt;5343361680+ -->\n<g id=\"edge5\" class=\"edge\">\n<title>5341908240&#45;&gt;5343361680+</title>\n<path fill=\"none\" stroke=\"black\" d=\"M503.95,-62.75C513.06,-64.33 521.87,-65.86 529.86,-67.24\"/>\n<polygon fill=\"black\" stroke=\"black\" points=\"529.08,-70.83 539.53,-69.09 530.28,-63.93 529.08,-70.83\"/>\n</g>\n<!-- 5344785232 -->\n<g id=\"node9\" class=\"node\">\n<title>5344785232</title>\n<polygon fill=\"none\" stroke=\"black\" points=\"0,-56.5 0,-92.5 188.25,-92.5 188.25,-56.5 0,-56.5\"/>\n<text text-anchor=\"middle\" x=\"11.38\" y=\"-69.7\" font-family=\"Times,serif\" font-size=\"14.00\">b</text>\n<polyline fill=\"none\" stroke=\"black\" points=\"22.75,-57 22.75,-92.5\"/>\n<text text-anchor=\"middle\" x=\"64.88\" y=\"-69.7\" font-family=\"Times,serif\" font-size=\"14.00\">data &#45;3.0000</text>\n<polyline fill=\"none\" stroke=\"black\" points=\"107,-57 107,-92.5\"/>\n<text text-anchor=\"middle\" x=\"147.62\" y=\"-69.7\" font-family=\"Times,serif\" font-size=\"14.00\">grad 0.0000</text>\n</g>\n<!-- 5344785232&#45;&gt;5338683600* -->\n<g id=\"edge9\" class=\"edge\">\n<title>5344785232&#45;&gt;5338683600*</title>\n<path fill=\"none\" stroke=\"black\" d=\"M188.05,-90.67C197.17,-92.26 206,-93.8 214,-95.19\"/>\n<polygon fill=\"black\" stroke=\"black\" points=\"213.25,-98.79 223.7,-97.05 214.45,-91.89 213.25,-98.79\"/>\n</g>\n<!-- 5344858512 -->\n<g id=\"node10\" class=\"node\">\n<title>5344858512</title>\n<polygon fill=\"none\" stroke=\"black\" points=\"630,-0.5 630,-36.5 816,-36.5 816,-0.5 630,-0.5\"/>\n<text text-anchor=\"middle\" x=\"640.25\" y=\"-13.7\" font-family=\"Times,serif\" font-size=\"14.00\">f</text>\n<polyline fill=\"none\" stroke=\"black\" points=\"650.5,-1 650.5,-36.5\"/>\n<text text-anchor=\"middle\" x=\"692.62\" y=\"-13.7\" font-family=\"Times,serif\" font-size=\"14.00\">data &#45;2.0000</text>\n<polyline fill=\"none\" stroke=\"black\" points=\"734.75,-1 734.75,-36.5\"/>\n<text text-anchor=\"middle\" x=\"775.38\" y=\"-13.7\" font-family=\"Times,serif\" font-size=\"14.00\">grad 0.0000</text>\n</g>\n<!-- 5344858512&#45;&gt;5344856272* -->\n<g id=\"edge7\" class=\"edge\">\n<title>5344858512&#45;&gt;5344856272*</title>\n<path fill=\"none\" stroke=\"black\" d=\"M815.81,-34.6C824.91,-36.19 833.73,-37.74 841.73,-39.14\"/>\n<polygon fill=\"black\" stroke=\"black\" points=\"840.98,-42.74 851.43,-41.02 842.18,-35.84 840.98,-42.74\"/>\n</g>\n</g>\n</svg>\n",
      "text/plain": "<graphviz.graphs.Digraph at 0x13e921990>"
     },
     "execution_count": 181,
     "metadata": {},
     "output_type": "execute_result"
    }
   ],
   "source": [
    "from graphviz import Digraph\n",
    "\n",
    "def trace(root):\n",
    "    # builds a set of all nodes and labels in a graph\n",
    "    nodes, edges = set(), set()\n",
    "    def build(v):\n",
    "        if v not in nodes:\n",
    "            nodes.add(v)\n",
    "            for child in v._prev:\n",
    "                edges.add((child, v))\n",
    "                build(child)\n",
    "    build(root)\n",
    "    return nodes, edges\n",
    "\n",
    "def draw_dot(root):\n",
    "    dot = Digraph(format='svg', graph_attr={'rankdir': 'LR'})\n",
    "\n",
    "    nodes, edges = trace(root)\n",
    "    for n in nodes:\n",
    "        uid = str(id(n))\n",
    "\n",
    "        dot.node(name=uid, label = \"{%s | data %.4f | grad %.4f }\" % (n.label, n.data, n.grad), shape = 'record')\n",
    "        if n._op:\n",
    "            dot.node(name=uid + n._op, label=n._op)\n",
    "            dot.edge(uid + n._op, uid)\n",
    "\n",
    "    for n1, n2 in edges:\n",
    "        dot.edge(str(id(n1)), str(id(n2)) + n2._op)\n",
    "\n",
    "    return dot\n",
    "\n",
    "draw_dot(L)"
   ],
   "metadata": {
    "collapsed": false,
    "ExecuteTime": {
     "end_time": "2023-08-22T13:46:05.609007Z",
     "start_time": "2023-08-22T13:46:05.479258Z"
    }
   }
  },
  {
   "cell_type": "code",
   "execution_count": 182,
   "outputs": [
    {
     "name": "stdout",
     "output_type": "stream",
     "text": [
      "-7.286496\n"
     ]
    }
   ],
   "source": [
    "# Manual backpropagation\n",
    "L.grad = 1.0\n",
    "f.grad = 4.0\n",
    "d.grad = -2.0\n",
    "c.grad = -2.0\n",
    "e.grad=-2.0\n",
    "b.grad = -4.0\n",
    "a.grad = 6.0\n",
    "\n",
    "#Optimization step\n",
    "a.data += a.grad * 0.01\n",
    "b.data += b.grad * 0.01\n",
    "c.data += c.grad * 0.01\n",
    "f.data += f.grad * 0.01\n",
    "\n",
    "#Forward pass\n",
    "e = a *b\n",
    "d = e + c\n",
    "L = d*f\n",
    "\n",
    "#Increased L\n",
    "print(L.data)\n"
   ],
   "metadata": {
    "collapsed": false,
    "ExecuteTime": {
     "end_time": "2023-08-22T13:46:06.189476Z",
     "start_time": "2023-08-22T13:46:06.185068Z"
    }
   }
  },
  {
   "cell_type": "code",
   "execution_count": 183,
   "outputs": [
    {
     "name": "stdout",
     "output_type": "stream",
     "text": [
      "-3.9999999999995595\n"
     ]
    }
   ],
   "source": [
    "def lol():\n",
    "\n",
    "    h = 0.001\n",
    "    a = Value(2.0, label='a')\n",
    "    b = Value(-3.0, label='b')\n",
    "    c = Value(10, label='c')\n",
    "    e = a*b; e.label = 'e'\n",
    "    d = e + c; d.label = 'd'\n",
    "    f = Value(-2.0, label='f')\n",
    "    L = d*f; L.label='L'\n",
    "    L1 = L.data\n",
    "\n",
    "    a = Value(2.0, label='a')\n",
    "    b = Value(-3.0, label='b')\n",
    "    b.data += h\n",
    "    c = Value(10, label='c')\n",
    "    e = a*b; e.label = 'e'\n",
    "    d = e + c; d.label = 'd'\n",
    "    f = Value(-2.0, label='f')\n",
    "    L = d*f; L.label='L'\n",
    "    L2 = L.data\n",
    "\n",
    "    print((L2 - L1)/h)\n",
    "\n",
    "lol()"
   ],
   "metadata": {
    "collapsed": false,
    "ExecuteTime": {
     "end_time": "2023-08-22T13:46:06.519801Z",
     "start_time": "2023-08-22T13:46:06.511914Z"
    }
   }
  },
  {
   "cell_type": "code",
   "execution_count": 184,
   "outputs": [],
   "source": [
    "#inputs x1, x2\n",
    "x1 = Value(2.0, label='x1')\n",
    "x2 = Value(0.0, label='x2')\n",
    "\n",
    "#weights of the neuron\n",
    "w1 = Value(-3.0, label='w1')\n",
    "w2 = Value(1.0, label='w2')\n",
    "\n",
    "#bias of the neuron\n",
    "b = Value(6.8813735870195432, label='b')\n",
    "\n",
    "#x1w1 + x2w2 + b\n",
    "x1w1 = x1*w1; x1w1.label = 'x1w1'\n",
    "x2w2 = x2*w2; x2w2.label = 'x2w2'\n",
    "x1w1x2w2 = x1w1 + x2w2; x1w1x2w2.label = 'x1w1 + x2w2'\n",
    "n = x1w1x2w2 + b; n.label = 'n'\n",
    "\n",
    "#------------------\n",
    "e = (2*n).exp(); e.label = 'e'\n",
    "o = (e + 1) / (e - 1); o.label = 'o'"
   ],
   "metadata": {
    "collapsed": false,
    "ExecuteTime": {
     "end_time": "2023-08-22T13:46:06.737729Z",
     "start_time": "2023-08-22T13:46:06.727276Z"
    }
   }
  },
  {
   "cell_type": "code",
   "execution_count": 185,
   "outputs": [
    {
     "data": {
      "text/plain": "Value(data=5.828427124746192)"
     },
     "execution_count": 185,
     "metadata": {},
     "output_type": "execute_result"
    }
   ],
   "source": [
    "(2*n).exp()"
   ],
   "metadata": {
    "collapsed": false,
    "ExecuteTime": {
     "end_time": "2023-08-22T13:46:07.019655Z",
     "start_time": "2023-08-22T13:46:07.012257Z"
    }
   }
  },
  {
   "cell_type": "code",
   "execution_count": 186,
   "outputs": [
    {
     "data": {
      "image/svg+xml": "<?xml version=\"1.0\" encoding=\"UTF-8\" standalone=\"no\"?>\n<!DOCTYPE svg PUBLIC \"-//W3C//DTD SVG 1.1//EN\"\n \"http://www.w3.org/Graphics/SVG/1.1/DTD/svg11.dtd\">\n<!-- Generated by graphviz version 8.1.0 (20230707.0739)\n -->\n<!-- Pages: 1 -->\n<svg width=\"2905pt\" height=\"210pt\"\n viewBox=\"0.00 0.00 2904.50 210.00\" xmlns=\"http://www.w3.org/2000/svg\" xmlns:xlink=\"http://www.w3.org/1999/xlink\">\n<g id=\"graph0\" class=\"graph\" transform=\"scale(1 1) rotate(0) translate(4 206)\">\n<polygon fill=\"white\" stroke=\"none\" points=\"-4,4 -4,-206 2900.5,-206 2900.5,4 -4,4\"/>\n<!-- 5344730128 -->\n<g id=\"node1\" class=\"node\">\n<title>5344730128</title>\n<polygon fill=\"none\" stroke=\"black\" points=\"2712.75,-80.5 2712.75,-116.5 2896.5,-116.5 2896.5,-80.5 2712.75,-80.5\"/>\n<text text-anchor=\"middle\" x=\"2724.12\" y=\"-93.7\" font-family=\"Times,serif\" font-size=\"14.00\">o</text>\n<polyline fill=\"none\" stroke=\"black\" points=\"2735.5,-81 2735.5,-116.5\"/>\n<text text-anchor=\"middle\" x=\"2775.38\" y=\"-93.7\" font-family=\"Times,serif\" font-size=\"14.00\">data 1.4142</text>\n<polyline fill=\"none\" stroke=\"black\" points=\"2815.25,-81 2815.25,-116.5\"/>\n<text text-anchor=\"middle\" x=\"2855.88\" y=\"-93.7\" font-family=\"Times,serif\" font-size=\"14.00\">grad 0.0000</text>\n</g>\n<!-- 5344730128* -->\n<g id=\"node2\" class=\"node\">\n<title>5344730128*</title>\n<ellipse fill=\"none\" stroke=\"black\" cx=\"2649.75\" cy=\"-98.5\" rx=\"27\" ry=\"18\"/>\n<text text-anchor=\"middle\" x=\"2649.75\" y=\"-93.45\" font-family=\"Times,serif\" font-size=\"14.00\">*</text>\n</g>\n<!-- 5344730128*&#45;&gt;5344730128 -->\n<g id=\"edge1\" class=\"edge\">\n<title>5344730128*&#45;&gt;5344730128</title>\n<path fill=\"none\" stroke=\"black\" d=\"M2677.03,-98.5C2684.45,-98.5 2693.01,-98.5 2702.1,-98.5\"/>\n<polygon fill=\"black\" stroke=\"black\" points=\"2701.97,-102 2711.97,-98.5 2701.97,-95 2701.97,-102\"/>\n</g>\n<!-- 5344735312 -->\n<g id=\"node3\" class=\"node\">\n<title>5344735312</title>\n<polygon fill=\"none\" stroke=\"black\" points=\"2.25,-55.5 2.25,-91.5 195.75,-91.5 195.75,-55.5 2.25,-55.5\"/>\n<text text-anchor=\"middle\" x=\"18.5\" y=\"-68.7\" font-family=\"Times,serif\" font-size=\"14.00\">w2</text>\n<polyline fill=\"none\" stroke=\"black\" points=\"34.75,-56 34.75,-91.5\"/>\n<text text-anchor=\"middle\" x=\"74.62\" y=\"-68.7\" font-family=\"Times,serif\" font-size=\"14.00\">data 1.0000</text>\n<polyline fill=\"none\" stroke=\"black\" points=\"114.5,-56 114.5,-91.5\"/>\n<text text-anchor=\"middle\" x=\"155.12\" y=\"-68.7\" font-family=\"Times,serif\" font-size=\"14.00\">grad 0.0000</text>\n</g>\n<!-- 5344737744* -->\n<g id=\"node28\" class=\"node\">\n<title>5344737744*</title>\n<ellipse fill=\"none\" stroke=\"black\" cx=\"261\" cy=\"-73.5\" rx=\"27\" ry=\"18\"/>\n<text text-anchor=\"middle\" x=\"261\" y=\"-68.45\" font-family=\"Times,serif\" font-size=\"14.00\">*</text>\n</g>\n<!-- 5344735312&#45;&gt;5344737744* -->\n<g id=\"edge25\" class=\"edge\">\n<title>5344735312&#45;&gt;5344737744*</title>\n<path fill=\"none\" stroke=\"black\" d=\"M195.38,-73.5C205.05,-73.5 214.4,-73.5 222.84,-73.5\"/>\n<polygon fill=\"black\" stroke=\"black\" points=\"222.75,-77 232.75,-73.5 222.75,-70 222.75,-77\"/>\n</g>\n<!-- 5341909584 -->\n<g id=\"node4\" class=\"node\">\n<title>5341909584</title>\n<polygon fill=\"none\" stroke=\"black\" points=\"1046.25,-109.5 1046.25,-145.5 1227,-145.5 1227,-109.5 1046.25,-109.5\"/>\n<text text-anchor=\"middle\" x=\"1056.12\" y=\"-122.7\" font-family=\"Times,serif\" font-size=\"14.00\"> </text>\n<polyline fill=\"none\" stroke=\"black\" points=\"1066,-110 1066,-145.5\"/>\n<text text-anchor=\"middle\" x=\"1105.88\" y=\"-122.7\" font-family=\"Times,serif\" font-size=\"14.00\">data 2.0000</text>\n<polyline fill=\"none\" stroke=\"black\" points=\"1145.75,-110 1145.75,-145.5\"/>\n<text text-anchor=\"middle\" x=\"1186.38\" y=\"-122.7\" font-family=\"Times,serif\" font-size=\"14.00\">grad 0.0000</text>\n</g>\n<!-- 5344730000* -->\n<g id=\"node24\" class=\"node\">\n<title>5344730000*</title>\n<ellipse fill=\"none\" stroke=\"black\" cx=\"1291.5\" cy=\"-99.5\" rx=\"27\" ry=\"18\"/>\n<text text-anchor=\"middle\" x=\"1291.5\" y=\"-94.45\" font-family=\"Times,serif\" font-size=\"14.00\">*</text>\n</g>\n<!-- 5341909584&#45;&gt;5344730000* -->\n<g id=\"edge18\" class=\"edge\">\n<title>5341909584&#45;&gt;5344730000*</title>\n<path fill=\"none\" stroke=\"black\" d=\"M1227,-111.13C1236.52,-109.39 1245.77,-107.69 1254.12,-106.16\"/>\n<polygon fill=\"black\" stroke=\"black\" points=\"1254.7,-109.43 1263.91,-104.19 1253.44,-102.55 1254.7,-109.43\"/>\n</g>\n<!-- 5344736400 -->\n<g id=\"node5\" class=\"node\">\n<title>5344736400</title>\n<polygon fill=\"none\" stroke=\"black\" points=\"2189.25,-53.5 2189.25,-89.5 2370,-89.5 2370,-53.5 2189.25,-53.5\"/>\n<text text-anchor=\"middle\" x=\"2199.12\" y=\"-66.7\" font-family=\"Times,serif\" font-size=\"14.00\"> </text>\n<polyline fill=\"none\" stroke=\"black\" points=\"2209,-54 2209,-89.5\"/>\n<text text-anchor=\"middle\" x=\"2248.88\" y=\"-66.7\" font-family=\"Times,serif\" font-size=\"14.00\">data 6.8284</text>\n<polyline fill=\"none\" stroke=\"black\" points=\"2288.75,-54 2288.75,-89.5\"/>\n<text text-anchor=\"middle\" x=\"2329.38\" y=\"-66.7\" font-family=\"Times,serif\" font-size=\"14.00\">grad 0.0000</text>\n</g>\n<!-- 5344736400&#45;&gt;5344730128* -->\n<g id=\"edge22\" class=\"edge\">\n<title>5344736400&#45;&gt;5344730128*</title>\n<path fill=\"none\" stroke=\"black\" d=\"M2369.74,-78.04C2447.18,-83.72 2555.5,-91.66 2611.67,-95.78\"/>\n<polygon fill=\"black\" stroke=\"black\" points=\"2611.28,-99.33 2621.51,-96.58 2611.79,-92.35 2611.28,-99.33\"/>\n</g>\n<!-- 5344736400+ -->\n<g id=\"node6\" class=\"node\">\n<title>5344736400+</title>\n<ellipse fill=\"none\" stroke=\"black\" cx=\"1909.5\" cy=\"-71.5\" rx=\"27\" ry=\"18\"/>\n<text text-anchor=\"middle\" x=\"1909.5\" y=\"-66.45\" font-family=\"Times,serif\" font-size=\"14.00\">+</text>\n</g>\n<!-- 5344736400+&#45;&gt;5344736400 -->\n<g id=\"edge2\" class=\"edge\">\n<title>5344736400+&#45;&gt;5344736400</title>\n<path fill=\"none\" stroke=\"black\" d=\"M1936.97,-71.5C1986.75,-71.5 2096.64,-71.5 2178.43,-71.5\"/>\n<polygon fill=\"black\" stroke=\"black\" points=\"2178.27,-75 2188.27,-71.5 2178.27,-68 2178.27,-75\"/>\n</g>\n<!-- 5344728720 -->\n<g id=\"node7\" class=\"node\">\n<title>5344728720</title>\n<polygon fill=\"none\" stroke=\"black\" points=\"1662.38,-81.5 1662.38,-117.5 1845.38,-117.5 1845.38,-81.5 1662.38,-81.5\"/>\n<text text-anchor=\"middle\" x=\"1673.38\" y=\"-94.7\" font-family=\"Times,serif\" font-size=\"14.00\">e</text>\n<polyline fill=\"none\" stroke=\"black\" points=\"1684.38,-82 1684.38,-117.5\"/>\n<text text-anchor=\"middle\" x=\"1724.25\" y=\"-94.7\" font-family=\"Times,serif\" font-size=\"14.00\">data 5.8284</text>\n<polyline fill=\"none\" stroke=\"black\" points=\"1764.12,-82 1764.12,-117.5\"/>\n<text text-anchor=\"middle\" x=\"1804.75\" y=\"-94.7\" font-family=\"Times,serif\" font-size=\"14.00\">grad 0.0000</text>\n</g>\n<!-- 5344728720&#45;&gt;5344736400+ -->\n<g id=\"edge14\" class=\"edge\">\n<title>5344728720&#45;&gt;5344736400+</title>\n<path fill=\"none\" stroke=\"black\" d=\"M1845.13,-83.05C1854.65,-81.32 1863.88,-79.63 1872.22,-78.11\"/>\n<polygon fill=\"black\" stroke=\"black\" points=\"1872.78,-81.39 1881.99,-76.15 1871.52,-74.5 1872.78,-81.39\"/>\n</g>\n<!-- 5344732432+ -->\n<g id=\"node21\" class=\"node\">\n<title>5344732432+</title>\n<ellipse fill=\"none\" stroke=\"black\" cx=\"1909.5\" cy=\"-126.5\" rx=\"27\" ry=\"18\"/>\n<text text-anchor=\"middle\" x=\"1909.5\" y=\"-121.45\" font-family=\"Times,serif\" font-size=\"14.00\">+</text>\n</g>\n<!-- 5344728720&#45;&gt;5344732432+ -->\n<g id=\"edge21\" class=\"edge\">\n<title>5344728720&#45;&gt;5344732432+</title>\n<path fill=\"none\" stroke=\"black\" d=\"M1845.13,-115.36C1854.65,-117.04 1863.88,-118.66 1872.22,-120.12\"/>\n<polygon fill=\"black\" stroke=\"black\" points=\"1871.53,-123.73 1881.99,-122.02 1872.74,-116.84 1871.53,-123.73\"/>\n</g>\n<!-- 5344728720exp -->\n<g id=\"node8\" class=\"node\">\n<title>5344728720exp</title>\n<ellipse fill=\"none\" stroke=\"black\" cx=\"1598.25\" cy=\"-99.5\" rx=\"27\" ry=\"18\"/>\n<text text-anchor=\"middle\" x=\"1598.25\" y=\"-94.45\" font-family=\"Times,serif\" font-size=\"14.00\">exp</text>\n</g>\n<!-- 5344728720exp&#45;&gt;5344728720 -->\n<g id=\"edge3\" class=\"edge\">\n<title>5344728720exp&#45;&gt;5344728720</title>\n<path fill=\"none\" stroke=\"black\" d=\"M1625.66,-99.5C1633.33,-99.5 1642.19,-99.5 1651.61,-99.5\"/>\n<polygon fill=\"black\" stroke=\"black\" points=\"1651.43,-103 1661.43,-99.5 1651.43,-96 1651.43,-103\"/>\n</g>\n<!-- 5344735376 -->\n<g id=\"node9\" class=\"node\">\n<title>5344735376</title>\n<polygon fill=\"none\" stroke=\"black\" points=\"3.75,-165.5 3.75,-201.5 194.25,-201.5 194.25,-165.5 3.75,-165.5\"/>\n<text text-anchor=\"middle\" x=\"18.5\" y=\"-178.7\" font-family=\"Times,serif\" font-size=\"14.00\">x1</text>\n<polyline fill=\"none\" stroke=\"black\" points=\"33.25,-166 33.25,-201.5\"/>\n<text text-anchor=\"middle\" x=\"73.12\" y=\"-178.7\" font-family=\"Times,serif\" font-size=\"14.00\">data 2.0000</text>\n<polyline fill=\"none\" stroke=\"black\" points=\"113,-166 113,-201.5\"/>\n<text text-anchor=\"middle\" x=\"153.62\" y=\"-178.7\" font-family=\"Times,serif\" font-size=\"14.00\">grad 0.0000</text>\n</g>\n<!-- 5268404624* -->\n<g id=\"node26\" class=\"node\">\n<title>5268404624*</title>\n<ellipse fill=\"none\" stroke=\"black\" cx=\"261\" cy=\"-128.5\" rx=\"27\" ry=\"18\"/>\n<text text-anchor=\"middle\" x=\"261\" y=\"-123.45\" font-family=\"Times,serif\" font-size=\"14.00\">*</text>\n</g>\n<!-- 5344735376&#45;&gt;5268404624* -->\n<g id=\"edge17\" class=\"edge\">\n<title>5344735376&#45;&gt;5268404624*</title>\n<path fill=\"none\" stroke=\"black\" d=\"M170.28,-165.56C179.67,-162.75 189.12,-159.71 198,-156.5 208.31,-152.78 219.28,-148.08 229.1,-143.59\"/>\n<polygon fill=\"black\" stroke=\"black\" points=\"230.24,-146.46 237.82,-139.05 227.28,-140.11 230.24,-146.46\"/>\n</g>\n<!-- 5344730256 -->\n<g id=\"node10\" class=\"node\">\n<title>5344730256</title>\n<polygon fill=\"none\" stroke=\"black\" points=\"1663.5,-26.5 1663.5,-62.5 1844.25,-62.5 1844.25,-26.5 1663.5,-26.5\"/>\n<text text-anchor=\"middle\" x=\"1673.38\" y=\"-39.7\" font-family=\"Times,serif\" font-size=\"14.00\"> </text>\n<polyline fill=\"none\" stroke=\"black\" points=\"1683.25,-27 1683.25,-62.5\"/>\n<text text-anchor=\"middle\" x=\"1723.12\" y=\"-39.7\" font-family=\"Times,serif\" font-size=\"14.00\">data 1.0000</text>\n<polyline fill=\"none\" stroke=\"black\" points=\"1763,-27 1763,-62.5\"/>\n<text text-anchor=\"middle\" x=\"1803.62\" y=\"-39.7\" font-family=\"Times,serif\" font-size=\"14.00\">grad 0.0000</text>\n</g>\n<!-- 5344730256&#45;&gt;5344736400+ -->\n<g id=\"edge24\" class=\"edge\">\n<title>5344730256&#45;&gt;5344736400+</title>\n<path fill=\"none\" stroke=\"black\" d=\"M1844.24,-60.21C1854.06,-61.93 1863.6,-63.61 1872.19,-65.12\"/>\n<polygon fill=\"black\" stroke=\"black\" points=\"1871.43,-68.71 1881.89,-67 1872.65,-61.82 1871.43,-68.71\"/>\n</g>\n<!-- 5344723664 -->\n<g id=\"node11\" class=\"node\">\n<title>5344723664</title>\n<polygon fill=\"none\" stroke=\"black\" points=\"0,-110.5 0,-146.5 198,-146.5 198,-110.5 0,-110.5\"/>\n<text text-anchor=\"middle\" x=\"16.25\" y=\"-123.7\" font-family=\"Times,serif\" font-size=\"14.00\">w1</text>\n<polyline fill=\"none\" stroke=\"black\" points=\"32.5,-111 32.5,-146.5\"/>\n<text text-anchor=\"middle\" x=\"74.62\" y=\"-123.7\" font-family=\"Times,serif\" font-size=\"14.00\">data &#45;3.0000</text>\n<polyline fill=\"none\" stroke=\"black\" points=\"116.75,-111 116.75,-146.5\"/>\n<text text-anchor=\"middle\" x=\"157.38\" y=\"-123.7\" font-family=\"Times,serif\" font-size=\"14.00\">grad 0.0000</text>\n</g>\n<!-- 5344723664&#45;&gt;5268404624* -->\n<g id=\"edge19\" class=\"edge\">\n<title>5344723664&#45;&gt;5268404624*</title>\n<path fill=\"none\" stroke=\"black\" d=\"M197.68,-128.5C206.51,-128.5 215.04,-128.5 222.8,-128.5\"/>\n<polygon fill=\"black\" stroke=\"black\" points=\"222.58,-132 232.58,-128.5 222.58,-125 222.58,-132\"/>\n</g>\n<!-- 5343355600 -->\n<g id=\"node12\" class=\"node\">\n<title>5343355600</title>\n<polygon fill=\"none\" stroke=\"black\" points=\"2406,-106.5 2406,-142.5 2586.75,-142.5 2586.75,-106.5 2406,-106.5\"/>\n<text text-anchor=\"middle\" x=\"2415.88\" y=\"-119.7\" font-family=\"Times,serif\" font-size=\"14.00\"> </text>\n<polyline fill=\"none\" stroke=\"black\" points=\"2425.75,-107 2425.75,-142.5\"/>\n<text text-anchor=\"middle\" x=\"2465.62\" y=\"-119.7\" font-family=\"Times,serif\" font-size=\"14.00\">data 0.2071</text>\n<polyline fill=\"none\" stroke=\"black\" points=\"2505.5,-107 2505.5,-142.5\"/>\n<text text-anchor=\"middle\" x=\"2546.12\" y=\"-119.7\" font-family=\"Times,serif\" font-size=\"14.00\">grad 0.0000</text>\n</g>\n<!-- 5343355600&#45;&gt;5344730128* -->\n<g id=\"edge20\" class=\"edge\">\n<title>5343355600&#45;&gt;5344730128*</title>\n<path fill=\"none\" stroke=\"black\" d=\"M2586.74,-109.15C2595.79,-107.6 2604.57,-106.09 2612.54,-104.72\"/>\n<polygon fill=\"black\" stroke=\"black\" points=\"2612.95,-108.03 2622.21,-102.89 2611.76,-101.13 2612.95,-108.03\"/>\n</g>\n<!-- 5343355600**&#45;1 -->\n<g id=\"node13\" class=\"node\">\n<title>5343355600**&#45;1</title>\n<ellipse fill=\"none\" stroke=\"black\" cx=\"2279.62\" cy=\"-126.5\" rx=\"27.81\" ry=\"18\"/>\n<text text-anchor=\"middle\" x=\"2279.62\" y=\"-121.45\" font-family=\"Times,serif\" font-size=\"14.00\">**&#45;1</text>\n</g>\n<!-- 5343355600**&#45;1&#45;&gt;5343355600 -->\n<g id=\"edge4\" class=\"edge\">\n<title>5343355600**&#45;1&#45;&gt;5343355600</title>\n<path fill=\"none\" stroke=\"black\" d=\"M2307.82,-126.25C2330.13,-126.04 2363.17,-125.73 2395.32,-125.43\"/>\n<polygon fill=\"black\" stroke=\"black\" points=\"2395.21,-128.92 2405.18,-125.33 2395.14,-121.92 2395.21,-128.92\"/>\n</g>\n<!-- 5344731024 -->\n<g id=\"node14\" class=\"node\">\n<title>5344731024</title>\n<polygon fill=\"none\" stroke=\"black\" points=\"1661.25,-136.5 1661.25,-172.5 1846.5,-172.5 1846.5,-136.5 1661.25,-136.5\"/>\n<text text-anchor=\"middle\" x=\"1671.12\" y=\"-149.7\" font-family=\"Times,serif\" font-size=\"14.00\"> </text>\n<polyline fill=\"none\" stroke=\"black\" points=\"1681,-137 1681,-172.5\"/>\n<text text-anchor=\"middle\" x=\"1723.12\" y=\"-149.7\" font-family=\"Times,serif\" font-size=\"14.00\">data &#45;1.0000</text>\n<polyline fill=\"none\" stroke=\"black\" points=\"1765.25,-137 1765.25,-172.5\"/>\n<text text-anchor=\"middle\" x=\"1805.88\" y=\"-149.7\" font-family=\"Times,serif\" font-size=\"14.00\">grad 0.0000</text>\n</g>\n<!-- 5344731024&#45;&gt;5344732432+ -->\n<g id=\"edge28\" class=\"edge\">\n<title>5344731024&#45;&gt;5344732432+</title>\n<path fill=\"none\" stroke=\"black\" d=\"M1846.46,-137.81C1855.54,-136.15 1864.34,-134.55 1872.32,-133.09\"/>\n<polygon fill=\"black\" stroke=\"black\" points=\"1872.78,-136.39 1881.99,-131.15 1871.53,-129.5 1872.78,-136.39\"/>\n</g>\n<!-- 5344733968 -->\n<g id=\"node15\" class=\"node\">\n<title>5344733968</title>\n<polygon fill=\"none\" stroke=\"black\" points=\"1044.75,-54.5 1044.75,-90.5 1228.5,-90.5 1228.5,-54.5 1044.75,-54.5\"/>\n<text text-anchor=\"middle\" x=\"1056.12\" y=\"-67.7\" font-family=\"Times,serif\" font-size=\"14.00\">n</text>\n<polyline fill=\"none\" stroke=\"black\" points=\"1067.5,-55 1067.5,-90.5\"/>\n<text text-anchor=\"middle\" x=\"1107.38\" y=\"-67.7\" font-family=\"Times,serif\" font-size=\"14.00\">data 0.8814</text>\n<polyline fill=\"none\" stroke=\"black\" points=\"1147.25,-55 1147.25,-90.5\"/>\n<text text-anchor=\"middle\" x=\"1187.88\" y=\"-67.7\" font-family=\"Times,serif\" font-size=\"14.00\">grad 0.0000</text>\n</g>\n<!-- 5344733968&#45;&gt;5344730000* -->\n<g id=\"edge13\" class=\"edge\">\n<title>5344733968&#45;&gt;5344730000*</title>\n<path fill=\"none\" stroke=\"black\" d=\"M1228.32,-88.52C1237.41,-90.12 1246.22,-91.68 1254.21,-93.09\"/>\n<polygon fill=\"black\" stroke=\"black\" points=\"1253.46,-96.69 1263.91,-94.98 1254.67,-89.79 1253.46,-96.69\"/>\n</g>\n<!-- 5344733968+ -->\n<g id=\"node16\" class=\"node\">\n<title>5344733968+</title>\n<ellipse fill=\"none\" stroke=\"black\" cx=\"981.75\" cy=\"-72.5\" rx=\"27\" ry=\"18\"/>\n<text text-anchor=\"middle\" x=\"981.75\" y=\"-67.45\" font-family=\"Times,serif\" font-size=\"14.00\">+</text>\n</g>\n<!-- 5344733968+&#45;&gt;5344733968 -->\n<g id=\"edge5\" class=\"edge\">\n<title>5344733968+&#45;&gt;5344733968</title>\n<path fill=\"none\" stroke=\"black\" d=\"M1009.03,-72.5C1016.45,-72.5 1025.01,-72.5 1034.1,-72.5\"/>\n<polygon fill=\"black\" stroke=\"black\" points=\"1033.97,-76 1043.97,-72.5 1033.97,-69 1033.97,-76\"/>\n</g>\n<!-- 5344725264 -->\n<g id=\"node17\" class=\"node\">\n<title>5344725264</title>\n<polygon fill=\"none\" stroke=\"black\" points=\"661.5,-82.5 661.5,-118.5 918.75,-118.5 918.75,-82.5 661.5,-82.5\"/>\n<text text-anchor=\"middle\" x=\"707.38\" y=\"-95.7\" font-family=\"Times,serif\" font-size=\"14.00\">x1w1 + x2w2</text>\n<polyline fill=\"none\" stroke=\"black\" points=\"753.25,-83 753.25,-118.5\"/>\n<text text-anchor=\"middle\" x=\"795.38\" y=\"-95.7\" font-family=\"Times,serif\" font-size=\"14.00\">data &#45;6.0000</text>\n<polyline fill=\"none\" stroke=\"black\" points=\"837.5,-83 837.5,-118.5\"/>\n<text text-anchor=\"middle\" x=\"878.12\" y=\"-95.7\" font-family=\"Times,serif\" font-size=\"14.00\">grad 0.0000</text>\n</g>\n<!-- 5344725264&#45;&gt;5344733968+ -->\n<g id=\"edge15\" class=\"edge\">\n<title>5344725264&#45;&gt;5344733968+</title>\n<path fill=\"none\" stroke=\"black\" d=\"M912.83,-82.53C924.11,-80.86 934.83,-79.28 944.29,-77.88\"/>\n<polygon fill=\"black\" stroke=\"black\" points=\"944.77,-81.2 954.15,-76.28 943.75,-74.28 944.77,-81.2\"/>\n</g>\n<!-- 5344725264+ -->\n<g id=\"node18\" class=\"node\">\n<title>5344725264+</title>\n<ellipse fill=\"none\" stroke=\"black\" cx=\"598.5\" cy=\"-100.5\" rx=\"27\" ry=\"18\"/>\n<text text-anchor=\"middle\" x=\"598.5\" y=\"-95.45\" font-family=\"Times,serif\" font-size=\"14.00\">+</text>\n</g>\n<!-- 5344725264+&#45;&gt;5344725264 -->\n<g id=\"edge6\" class=\"edge\">\n<title>5344725264+&#45;&gt;5344725264</title>\n<path fill=\"none\" stroke=\"black\" d=\"M625.87,-100.5C633.26,-100.5 641.84,-100.5 651.13,-100.5\"/>\n<polygon fill=\"black\" stroke=\"black\" points=\"650.89,-104 660.89,-100.5 650.89,-97 650.89,-104\"/>\n</g>\n<!-- 5344739280 -->\n<g id=\"node19\" class=\"node\">\n<title>5344739280</title>\n<polygon fill=\"none\" stroke=\"black\" points=\"698.25,-27.5 698.25,-63.5 882,-63.5 882,-27.5 698.25,-27.5\"/>\n<text text-anchor=\"middle\" x=\"709.62\" y=\"-40.7\" font-family=\"Times,serif\" font-size=\"14.00\">b</text>\n<polyline fill=\"none\" stroke=\"black\" points=\"721,-28 721,-63.5\"/>\n<text text-anchor=\"middle\" x=\"760.88\" y=\"-40.7\" font-family=\"Times,serif\" font-size=\"14.00\">data 6.8814</text>\n<polyline fill=\"none\" stroke=\"black\" points=\"800.75,-28 800.75,-63.5\"/>\n<text text-anchor=\"middle\" x=\"841.38\" y=\"-40.7\" font-family=\"Times,serif\" font-size=\"14.00\">grad 0.0000</text>\n</g>\n<!-- 5344739280&#45;&gt;5344733968+ -->\n<g id=\"edge23\" class=\"edge\">\n<title>5344739280&#45;&gt;5344733968+</title>\n<path fill=\"none\" stroke=\"black\" d=\"M881.77,-58.41C903.9,-61.56 926.34,-64.75 944.24,-67.3\"/>\n<polygon fill=\"black\" stroke=\"black\" points=\"943.64,-70.89 954.03,-68.84 944.62,-63.96 943.64,-70.89\"/>\n</g>\n<!-- 5344732432 -->\n<g id=\"node20\" class=\"node\">\n<title>5344732432</title>\n<polygon fill=\"none\" stroke=\"black\" points=\"1972.5,-108.5 1972.5,-144.5 2153.25,-144.5 2153.25,-108.5 1972.5,-108.5\"/>\n<text text-anchor=\"middle\" x=\"1982.38\" y=\"-121.7\" font-family=\"Times,serif\" font-size=\"14.00\"> </text>\n<polyline fill=\"none\" stroke=\"black\" points=\"1992.25,-109 1992.25,-144.5\"/>\n<text text-anchor=\"middle\" x=\"2032.12\" y=\"-121.7\" font-family=\"Times,serif\" font-size=\"14.00\">data 4.8284</text>\n<polyline fill=\"none\" stroke=\"black\" points=\"2072,-109 2072,-144.5\"/>\n<text text-anchor=\"middle\" x=\"2112.62\" y=\"-121.7\" font-family=\"Times,serif\" font-size=\"14.00\">grad 0.0000</text>\n</g>\n<!-- 5344732432&#45;&gt;5343355600**&#45;1 -->\n<g id=\"edge12\" class=\"edge\">\n<title>5344732432&#45;&gt;5343355600**&#45;1</title>\n<path fill=\"none\" stroke=\"black\" d=\"M2153.08,-126.5C2183.72,-126.5 2216.4,-126.5 2240.73,-126.5\"/>\n<polygon fill=\"black\" stroke=\"black\" points=\"2240.62,-130 2250.62,-126.5 2240.62,-123 2240.62,-130\"/>\n</g>\n<!-- 5344732432+&#45;&gt;5344732432 -->\n<g id=\"edge7\" class=\"edge\">\n<title>5344732432+&#45;&gt;5344732432</title>\n<path fill=\"none\" stroke=\"black\" d=\"M1936.87,-126.5C1944.3,-126.5 1952.85,-126.5 1961.92,-126.5\"/>\n<polygon fill=\"black\" stroke=\"black\" points=\"1961.77,-130 1971.77,-126.5 1961.77,-123 1961.77,-130\"/>\n</g>\n<!-- 5344723280 -->\n<g id=\"node22\" class=\"node\">\n<title>5344723280</title>\n<polygon fill=\"none\" stroke=\"black\" points=\"3.75,-0.5 3.75,-36.5 194.25,-36.5 194.25,-0.5 3.75,-0.5\"/>\n<text text-anchor=\"middle\" x=\"18.5\" y=\"-13.7\" font-family=\"Times,serif\" font-size=\"14.00\">x2</text>\n<polyline fill=\"none\" stroke=\"black\" points=\"33.25,-1 33.25,-36.5\"/>\n<text text-anchor=\"middle\" x=\"73.12\" y=\"-13.7\" font-family=\"Times,serif\" font-size=\"14.00\">data 0.0000</text>\n<polyline fill=\"none\" stroke=\"black\" points=\"113,-1 113,-36.5\"/>\n<text text-anchor=\"middle\" x=\"153.62\" y=\"-13.7\" font-family=\"Times,serif\" font-size=\"14.00\">grad 0.0000</text>\n</g>\n<!-- 5344723280&#45;&gt;5344737744* -->\n<g id=\"edge26\" class=\"edge\">\n<title>5344723280&#45;&gt;5344737744*</title>\n<path fill=\"none\" stroke=\"black\" d=\"M170.28,-36.44C179.67,-39.25 189.12,-42.29 198,-45.5 208.31,-49.22 219.28,-53.92 229.1,-58.41\"/>\n<polygon fill=\"black\" stroke=\"black\" points=\"227.28,-61.89 237.82,-62.95 230.24,-55.54 227.28,-61.89\"/>\n</g>\n<!-- 5344730000 -->\n<g id=\"node23\" class=\"node\">\n<title>5344730000</title>\n<polygon fill=\"none\" stroke=\"black\" points=\"1354.5,-81.5 1354.5,-117.5 1535.25,-117.5 1535.25,-81.5 1354.5,-81.5\"/>\n<text text-anchor=\"middle\" x=\"1364.38\" y=\"-94.7\" font-family=\"Times,serif\" font-size=\"14.00\"> </text>\n<polyline fill=\"none\" stroke=\"black\" points=\"1374.25,-82 1374.25,-117.5\"/>\n<text text-anchor=\"middle\" x=\"1414.12\" y=\"-94.7\" font-family=\"Times,serif\" font-size=\"14.00\">data 1.7627</text>\n<polyline fill=\"none\" stroke=\"black\" points=\"1454,-82 1454,-117.5\"/>\n<text text-anchor=\"middle\" x=\"1494.62\" y=\"-94.7\" font-family=\"Times,serif\" font-size=\"14.00\">grad 0.0000</text>\n</g>\n<!-- 5344730000&#45;&gt;5344728720exp -->\n<g id=\"edge11\" class=\"edge\">\n<title>5344730000&#45;&gt;5344728720exp</title>\n<path fill=\"none\" stroke=\"black\" d=\"M1535.24,-99.5C1543.83,-99.5 1552.17,-99.5 1559.81,-99.5\"/>\n<polygon fill=\"black\" stroke=\"black\" points=\"1559.8,-103 1569.8,-99.5 1559.8,-96 1559.8,-103\"/>\n</g>\n<!-- 5344730000*&#45;&gt;5344730000 -->\n<g id=\"edge8\" class=\"edge\">\n<title>5344730000*&#45;&gt;5344730000</title>\n<path fill=\"none\" stroke=\"black\" d=\"M1318.87,-99.5C1326.3,-99.5 1334.85,-99.5 1343.92,-99.5\"/>\n<polygon fill=\"black\" stroke=\"black\" points=\"1343.77,-103 1353.77,-99.5 1343.77,-96 1343.77,-103\"/>\n</g>\n<!-- 5268404624 -->\n<g id=\"node25\" class=\"node\">\n<title>5268404624</title>\n<polygon fill=\"none\" stroke=\"black\" points=\"324,-110.5 324,-146.5 535.5,-146.5 535.5,-110.5 324,-110.5\"/>\n<text text-anchor=\"middle\" x=\"347\" y=\"-123.7\" font-family=\"Times,serif\" font-size=\"14.00\">x1w1</text>\n<polyline fill=\"none\" stroke=\"black\" points=\"370,-111 370,-146.5\"/>\n<text text-anchor=\"middle\" x=\"412.12\" y=\"-123.7\" font-family=\"Times,serif\" font-size=\"14.00\">data &#45;6.0000</text>\n<polyline fill=\"none\" stroke=\"black\" points=\"454.25,-111 454.25,-146.5\"/>\n<text text-anchor=\"middle\" x=\"494.88\" y=\"-123.7\" font-family=\"Times,serif\" font-size=\"14.00\">grad 0.0000</text>\n</g>\n<!-- 5268404624&#45;&gt;5344725264+ -->\n<g id=\"edge16\" class=\"edge\">\n<title>5268404624&#45;&gt;5344725264+</title>\n<path fill=\"none\" stroke=\"black\" d=\"M535.41,-110.93C544.57,-109.39 553.36,-107.91 561.31,-106.58\"/>\n<polygon fill=\"black\" stroke=\"black\" points=\"561.64,-109.9 570.92,-104.8 560.48,-103 561.64,-109.9\"/>\n</g>\n<!-- 5268404624*&#45;&gt;5268404624 -->\n<g id=\"edge9\" class=\"edge\">\n<title>5268404624*&#45;&gt;5268404624</title>\n<path fill=\"none\" stroke=\"black\" d=\"M288.42,-128.5C295.75,-128.5 304.2,-128.5 313.25,-128.5\"/>\n<polygon fill=\"black\" stroke=\"black\" points=\"313.11,-132 323.11,-128.5 313.11,-125 313.11,-132\"/>\n</g>\n<!-- 5344737744 -->\n<g id=\"node27\" class=\"node\">\n<title>5344737744</title>\n<polygon fill=\"none\" stroke=\"black\" points=\"326.25,-55.5 326.25,-91.5 533.25,-91.5 533.25,-55.5 326.25,-55.5\"/>\n<text text-anchor=\"middle\" x=\"349.25\" y=\"-68.7\" font-family=\"Times,serif\" font-size=\"14.00\">x2w2</text>\n<polyline fill=\"none\" stroke=\"black\" points=\"372.25,-56 372.25,-91.5\"/>\n<text text-anchor=\"middle\" x=\"412.12\" y=\"-68.7\" font-family=\"Times,serif\" font-size=\"14.00\">data 0.0000</text>\n<polyline fill=\"none\" stroke=\"black\" points=\"452,-56 452,-91.5\"/>\n<text text-anchor=\"middle\" x=\"492.62\" y=\"-68.7\" font-family=\"Times,serif\" font-size=\"14.00\">grad 0.0000</text>\n</g>\n<!-- 5344737744&#45;&gt;5344725264+ -->\n<g id=\"edge27\" class=\"edge\">\n<title>5344737744&#45;&gt;5344725264+</title>\n<path fill=\"none\" stroke=\"black\" d=\"M533.03,-90.06C542.97,-91.67 552.53,-93.22 561.1,-94.61\"/>\n<polygon fill=\"black\" stroke=\"black\" points=\"560.33,-98.19 570.76,-96.33 561.44,-91.28 560.33,-98.19\"/>\n</g>\n<!-- 5344737744*&#45;&gt;5344737744 -->\n<g id=\"edge10\" class=\"edge\">\n<title>5344737744*&#45;&gt;5344737744</title>\n<path fill=\"none\" stroke=\"black\" d=\"M288.42,-73.5C296.46,-73.5 305.86,-73.5 315.91,-73.5\"/>\n<polygon fill=\"black\" stroke=\"black\" points=\"315.6,-77 325.6,-73.5 315.6,-70 315.6,-77\"/>\n</g>\n</g>\n</svg>\n",
      "text/plain": "<graphviz.graphs.Digraph at 0x13e79b6d0>"
     },
     "execution_count": 186,
     "metadata": {},
     "output_type": "execute_result"
    }
   ],
   "source": [
    "draw_dot(o)"
   ],
   "metadata": {
    "collapsed": false,
    "ExecuteTime": {
     "end_time": "2023-08-22T13:46:07.556769Z",
     "start_time": "2023-08-22T13:46:07.479703Z"
    }
   }
  },
  {
   "cell_type": "code",
   "execution_count": 187,
   "outputs": [],
   "source": [
    "o.backward()"
   ],
   "metadata": {
    "collapsed": false,
    "ExecuteTime": {
     "end_time": "2023-08-22T13:46:07.928070Z",
     "start_time": "2023-08-22T13:46:07.921982Z"
    }
   }
  },
  {
   "cell_type": "code",
   "execution_count": 188,
   "outputs": [],
   "source": [
    "#Manual backpropagation\n",
    "o.grad = 1.0\n",
    "n.grad = (1 - o.data**2)\n",
    "x1w1x2w2.grad = n.grad\n",
    "b.grad = n.grad\n",
    "x1w1.grad = x1w1x2w2.grad\n",
    "x2w2.grad = x1w1x2w2.grad\n",
    "x2.grad = w2.data * x2w2.grad\n",
    "x1.grad = w1.data * x1w1.grad\n",
    "w2.grad = x2.data * x2w2.grad\n",
    "w1.grad = x1.data * x1w1.grad"
   ],
   "metadata": {
    "collapsed": false,
    "ExecuteTime": {
     "end_time": "2023-08-22T13:46:08.475155Z",
     "start_time": "2023-08-22T13:46:08.467852Z"
    }
   }
  },
  {
   "cell_type": "code",
   "execution_count": 189,
   "outputs": [],
   "source": [
    "#Using backward implementation\n",
    "o.grad = 1.0\n",
    "o._backward()\n",
    "n._backward()\n",
    "x1w1x2w2._backward()\n",
    "b._backward()\n",
    "x1w1._backward()\n",
    "x2w2._backward()\n",
    "x2._backward()\n",
    "x1._backward()\n",
    "w2._backward()\n",
    "w1._backward()"
   ],
   "metadata": {
    "collapsed": false,
    "ExecuteTime": {
     "end_time": "2023-08-22T13:46:08.888015Z",
     "start_time": "2023-08-22T13:46:08.879475Z"
    }
   }
  },
  {
   "cell_type": "code",
   "execution_count": 190,
   "outputs": [
    {
     "data": {
      "image/svg+xml": "<?xml version=\"1.0\" encoding=\"UTF-8\" standalone=\"no\"?>\n<!DOCTYPE svg PUBLIC \"-//W3C//DTD SVG 1.1//EN\"\n \"http://www.w3.org/Graphics/SVG/1.1/DTD/svg11.dtd\">\n<!-- Generated by graphviz version 8.1.0 (20230707.0739)\n -->\n<!-- Pages: 1 -->\n<svg width=\"501pt\" height=\"45pt\"\n viewBox=\"0.00 0.00 500.75 45.00\" xmlns=\"http://www.w3.org/2000/svg\" xmlns:xlink=\"http://www.w3.org/1999/xlink\">\n<g id=\"graph0\" class=\"graph\" transform=\"scale(1 1) rotate(0) translate(4 41)\">\n<polygon fill=\"white\" stroke=\"none\" points=\"-4,4 -4,-41 496.75,-41 496.75,4 -4,4\"/>\n<!-- 5344605328 -->\n<g id=\"node1\" class=\"node\">\n<title>5344605328</title>\n<polygon fill=\"none\" stroke=\"black\" points=\"0,-0.5 0,-36.5 183,-36.5 183,-0.5 0,-0.5\"/>\n<text text-anchor=\"middle\" x=\"11\" y=\"-13.7\" font-family=\"Times,serif\" font-size=\"14.00\">a</text>\n<polyline fill=\"none\" stroke=\"black\" points=\"22,-1 22,-36.5\"/>\n<text text-anchor=\"middle\" x=\"61.88\" y=\"-13.7\" font-family=\"Times,serif\" font-size=\"14.00\">data 3.0000</text>\n<polyline fill=\"none\" stroke=\"black\" points=\"101.75,-1 101.75,-36.5\"/>\n<text text-anchor=\"middle\" x=\"142.38\" y=\"-13.7\" font-family=\"Times,serif\" font-size=\"14.00\">grad 2.0000</text>\n</g>\n<!-- 5344602832+ -->\n<g id=\"node3\" class=\"node\">\n<title>5344602832+</title>\n<ellipse fill=\"none\" stroke=\"black\" cx=\"246\" cy=\"-18.5\" rx=\"27\" ry=\"18\"/>\n<text text-anchor=\"middle\" x=\"246\" y=\"-13.45\" font-family=\"Times,serif\" font-size=\"14.00\">+</text>\n</g>\n<!-- 5344605328&#45;&gt;5344602832+ -->\n<g id=\"edge2\" class=\"edge\">\n<title>5344605328&#45;&gt;5344602832+</title>\n<path fill=\"none\" stroke=\"black\" d=\"M182.97,-18.5C191.58,-18.5 199.93,-18.5 207.57,-18.5\"/>\n<polygon fill=\"black\" stroke=\"black\" points=\"207.57,-22 217.57,-18.5 207.57,-15 207.57,-22\"/>\n</g>\n<!-- 5344602832 -->\n<g id=\"node2\" class=\"node\">\n<title>5344602832</title>\n<polygon fill=\"none\" stroke=\"black\" points=\"309,-0.5 309,-36.5 492.75,-36.5 492.75,-0.5 309,-0.5\"/>\n<text text-anchor=\"middle\" x=\"320.38\" y=\"-13.7\" font-family=\"Times,serif\" font-size=\"14.00\">b</text>\n<polyline fill=\"none\" stroke=\"black\" points=\"331.75,-1 331.75,-36.5\"/>\n<text text-anchor=\"middle\" x=\"371.62\" y=\"-13.7\" font-family=\"Times,serif\" font-size=\"14.00\">data 6.0000</text>\n<polyline fill=\"none\" stroke=\"black\" points=\"411.5,-1 411.5,-36.5\"/>\n<text text-anchor=\"middle\" x=\"452.12\" y=\"-13.7\" font-family=\"Times,serif\" font-size=\"14.00\">grad 1.0000</text>\n</g>\n<!-- 5344602832+&#45;&gt;5344602832 -->\n<g id=\"edge1\" class=\"edge\">\n<title>5344602832+&#45;&gt;5344602832</title>\n<path fill=\"none\" stroke=\"black\" d=\"M273.28,-18.5C280.7,-18.5 289.26,-18.5 298.35,-18.5\"/>\n<polygon fill=\"black\" stroke=\"black\" points=\"298.22,-22 308.22,-18.5 298.22,-15 298.22,-22\"/>\n</g>\n</g>\n</svg>\n",
      "text/plain": "<graphviz.graphs.Digraph at 0x13e902c90>"
     },
     "execution_count": 190,
     "metadata": {},
     "output_type": "execute_result"
    }
   ],
   "source": [
    "a = Value(3.0, label='a')\n",
    "b = a + a; b.label = 'b'\n",
    "b.backward()\n",
    "draw_dot(b)"
   ],
   "metadata": {
    "collapsed": false,
    "ExecuteTime": {
     "end_time": "2023-08-22T13:46:09.407879Z",
     "start_time": "2023-08-22T13:46:09.326047Z"
    }
   }
  },
  {
   "cell_type": "code",
   "execution_count": 191,
   "outputs": [
    {
     "data": {
      "text/plain": "Value(data=6.0)"
     },
     "execution_count": 191,
     "metadata": {},
     "output_type": "execute_result"
    }
   ],
   "source": [
    "a * 2"
   ],
   "metadata": {
    "collapsed": false,
    "ExecuteTime": {
     "end_time": "2023-08-22T13:46:10.083878Z",
     "start_time": "2023-08-22T13:46:10.076121Z"
    }
   }
  },
  {
   "cell_type": "code",
   "execution_count": 192,
   "outputs": [
    {
     "name": "stdout",
     "output_type": "stream",
     "text": [
      "0.7071066904050358\n",
      "----\n",
      "-1.5000003851533106\n",
      "0.5000001283844369\n",
      "1.0000002567688737\n",
      "0.0\n"
     ]
    }
   ],
   "source": [
    "#Comparing gradients with pytorch\n",
    "import torch\n",
    "\n",
    "x1 = torch.tensor([2.0]).double(); x1.requires_grad=True\n",
    "x2 = torch.tensor([0.0]).double(); x2.requires_grad=True\n",
    "w1 = torch.tensor([-3.0]).double(); w1.requires_grad=True\n",
    "w2 = torch.tensor([1.0]).double(); w2.requires_grad=True\n",
    "b = torch.tensor([6.8813735870195432]).double(); b.requires_grad=True\n",
    "n = x1*w1 + x2*w2 + b\n",
    "o = torch.tanh(n)\n",
    "print(o.data.item())\n",
    "o.backward()\n",
    "\n",
    "print('----')\n",
    "print(x1.grad.item())\n",
    "print(x2.grad.item())\n",
    "print(w1.grad.item())\n",
    "print(w2.grad.item())\n"
   ],
   "metadata": {
    "collapsed": false,
    "ExecuteTime": {
     "end_time": "2023-08-22T13:46:10.599685Z",
     "start_time": "2023-08-22T13:46:10.592739Z"
    }
   }
  },
  {
   "cell_type": "code",
   "execution_count": 200,
   "outputs": [],
   "source": [
    "class Neuron:\n",
    "    \n",
    "    def __init__(self, nin):\n",
    "        self.w = [Value(random.uniform(-1, 1)) for _ in range(nin)]\n",
    "        self.b = Value(random.uniform(-1, 1))\n",
    "        \n",
    "    def __call__(self, x):\n",
    "        act = sum((wi*xi for wi, xi in zip(self.w, x)), self.b)\n",
    "        out = act.tanh()\n",
    "        return out\n",
    "    \n",
    "    def parameters(self):\n",
    "        return self.w + [self.b]\n",
    "        \n",
    "class Layer:\n",
    "    \n",
    "    def __init__(self, nin, nout):\n",
    "        self.neurons = [Neuron(nin) for _ in range(nout)]\n",
    "        \n",
    "    def __call__(self, x):\n",
    "        outs = [n(x) for n in self.neurons]\n",
    "        return outs[0] if len(outs) == 1 else outs\n",
    "    \n",
    "    def parameters(self):\n",
    "        return [p for neuron in self.neurons for p in neuron.parameters()]\n",
    "    \n",
    "class MLP:\n",
    "    \n",
    "    def __init__(self, nin, nouts):\n",
    "        sz = [nin] + nouts\n",
    "        self.layers = [Layer(sz[i], sz[i+1]) for i in range(len(nouts))]\n",
    "        \n",
    "    def __call__(self, x):\n",
    "        for layer in self.layers:\n",
    "            x = layer(x)\n",
    "        return x\n",
    "    \n",
    "    def parameters(self):\n",
    "        return [p for layer in self.layers for p in layer.parameters()]\n"
   ],
   "metadata": {
    "collapsed": false,
    "ExecuteTime": {
     "end_time": "2023-08-22T13:52:30.129640Z",
     "start_time": "2023-08-22T13:52:30.081687Z"
    }
   }
  },
  {
   "cell_type": "code",
   "execution_count": 242,
   "outputs": [
    {
     "data": {
      "text/plain": "Value(data=0.5732904628640738)"
     },
     "execution_count": 242,
     "metadata": {},
     "output_type": "execute_result"
    }
   ],
   "source": [
    "x = [2.0, 3.0, -1.0]\n",
    "n = MLP(3, [4, 4, 1])\n",
    "n(x)"
   ],
   "metadata": {
    "collapsed": false,
    "ExecuteTime": {
     "end_time": "2023-08-22T14:27:48.115826Z",
     "start_time": "2023-08-22T14:27:48.099095Z"
    }
   }
  },
  {
   "cell_type": "code",
   "execution_count": 243,
   "outputs": [],
   "source": [
    "xs = [\n",
    "    [2.0, 3.0, -1.0],\n",
    "    [3.0, -1.0, 0.5],\n",
    "    [0.5, 1.0, 1.0],\n",
    "    [1.0, 1.0, -1.0]\n",
    "]\n",
    "\n",
    "ys = [1.0, -1.0, -1.0, 1.0]"
   ],
   "metadata": {
    "collapsed": false,
    "ExecuteTime": {
     "end_time": "2023-08-22T14:27:48.479739Z",
     "start_time": "2023-08-22T14:27:48.473889Z"
    }
   }
  },
  {
   "cell_type": "code",
   "execution_count": 250,
   "outputs": [
    {
     "name": "stdout",
     "output_type": "stream",
     "text": [
      "0 0.0035382346289695166\n",
      "1 0.0035120651952029046\n",
      "2 0.0034863430331259285\n",
      "3 0.0034609420785257855\n",
      "4 0.0034358867826224573\n",
      "5 0.0034112518901077285\n",
      "6 0.0033869586660409306\n",
      "7 0.0033629628732601237\n",
      "8 0.0033392688124164313\n",
      "9 0.0033159618958981765\n",
      "10 0.0032928573595641256\n",
      "11 0.0032701255037309866\n",
      "12 0.0032477177173535626\n",
      "13 0.0032255667340952187\n",
      "14 0.0032037140093874525\n",
      "15 0.0031821411954519973\n",
      "16 0.0031608862820087687\n",
      "17 0.00313986822465943\n",
      "18 0.003119152978850424\n",
      "19 0.003098698934817777\n"
     ]
    }
   ],
   "source": [
    "for k in range(20):\n",
    "    \n",
    "    #forward\n",
    "    ypred = [n(x) for x in xs]\n",
    "    loss = sum((yout - ygt)**2 for ygt, yout in zip(ys, ypred))\n",
    "    \n",
    "    #backward\n",
    "    for p in n.parameters():\n",
    "        p.grad = 0.0\n",
    "    loss.backward()\n",
    "    \n",
    "    #update\n",
    "    for p in n.parameters():\n",
    "        p.data += -0.05 * p.grad\n",
    "        \n",
    "    print(k, loss.data)"
   ],
   "metadata": {
    "collapsed": false,
    "ExecuteTime": {
     "end_time": "2023-08-22T14:28:18.223759Z",
     "start_time": "2023-08-22T14:28:18.219213Z"
    }
   }
  },
  {
   "cell_type": "code",
   "execution_count": null,
   "outputs": [],
   "source": [],
   "metadata": {
    "collapsed": false
   }
  }
 ],
 "metadata": {
  "kernelspec": {
   "display_name": "Python 3",
   "language": "python",
   "name": "python3"
  },
  "language_info": {
   "codemirror_mode": {
    "name": "ipython",
    "version": 2
   },
   "file_extension": ".py",
   "mimetype": "text/x-python",
   "name": "python",
   "nbconvert_exporter": "python",
   "pygments_lexer": "ipython2",
   "version": "2.7.6"
  }
 },
 "nbformat": 4,
 "nbformat_minor": 0
}
